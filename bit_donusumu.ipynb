{
  "nbformat": 4,
  "nbformat_minor": 0,
  "metadata": {
    "colab": {
      "provenance": [],
      "authorship_tag": "ABX9TyNZ4csNpWfVrxs58Z0FnQ+B",
      "include_colab_link": true
    },
    "kernelspec": {
      "name": "python3",
      "display_name": "Python 3"
    },
    "language_info": {
      "name": "python"
    }
  },
  "cells": [
    {
      "cell_type": "markdown",
      "metadata": {
        "id": "view-in-github",
        "colab_type": "text"
      },
      "source": [
        "<a href=\"https://colab.research.google.com/github/umutasmaz/image-processing/blob/main/bit_donusumu.ipynb\" target=\"_parent\"><img src=\"https://colab.research.google.com/assets/colab-badge.svg\" alt=\"Open In Colab\"/></a>"
      ]
    },
    {
      "cell_type": "code",
      "execution_count": null,
      "metadata": {
        "id": "tafPiwACWBlg"
      },
      "outputs": [],
      "source": [
        "import cv2\n",
        "import matplotlib.pyplot as plt\n",
        "import numpy\n",
        "import numpy as np\n",
        "\n",
        "# Vanilla\n",
        "img = cv2.imread(\"C:/Users/Casper/Desktop/apple.jpeg\", 0)\n",
        "plt.imshow(cv2.cvtColor(img, cv2.COLOR_GRAY2RGB))\n",
        "plt.show()\n",
        "\n",
        "# Bit parsing\n",
        "for x in range(0, 8):\n",
        "    img_temp = img.copy()\n",
        "    for i in range(0, img.shape[0]):\n",
        "        for j in range(0, img.shape[1]):\n",
        "            img_temp[i][j] = img[i][j] & (0b1 << x)\n",
        "    plt.imshow(cv2.cvtColor(img_temp, cv2.COLOR_GRAY2RGB))\n",
        "    plt.show()\n",
        "\n",
        "# 16 bit image\n",
        "newimg = np.zeros((img.shape[0], img.shape[1]), dtype=np.int64)\n",
        "print(type(newimg[0][0]))\n",
        "for i in range(0, img.shape[0]):\n",
        "    for j in range(0, img.shape[1]):\n",
        "        newimg[i][j] = numpy.int64((img[i][j] / 255) * (2 ** 16))\n",
        "\n",
        "\n",
        "plt.imshow(newimg, cmap=\"gray\", vmin=0, vmax=(2 ** 16))\n",
        "plt.show()\n",
        "\n",
        "# 24 bit image\n",
        "newimg = np.zeros((img.shape[0], img.shape[1], 3), dtype=np.int64)\n",
        "for i in range(0, img.shape[0]):\n",
        "    for j in range(0, img.shape[1]):\n",
        "        newimg[i][j] = [img[i][j], img[i][j], img[i][j]]\n",
        "\n",
        "plt.imshow(newimg, cmap=\"brg\", vmin=0, vmax=255)\n",
        "plt.show()\n"
      ]
    }
  ]
}