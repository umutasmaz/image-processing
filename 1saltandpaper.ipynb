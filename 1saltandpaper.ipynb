{
  "nbformat": 4,
  "nbformat_minor": 0,
  "metadata": {
    "colab": {
      "provenance": [],
      "authorship_tag": "ABX9TyMtyEXxSAYj/tObkId/06GI",
      "include_colab_link": true
    },
    "kernelspec": {
      "name": "python3",
      "display_name": "Python 3"
    },
    "language_info": {
      "name": "python"
    }
  },
  "cells": [
    {
      "cell_type": "markdown",
      "metadata": {
        "id": "view-in-github",
        "colab_type": "text"
      },
      "source": [
        "<a href=\"https://colab.research.google.com/github/umutasmaz/image-processing/blob/main/1saltandpaper.ipynb\" target=\"_parent\"><img src=\"https://colab.research.google.com/assets/colab-badge.svg\" alt=\"Open In Colab\"/></a>"
      ]
    },
    {
      "cell_type": "code",
      "execution_count": null,
      "metadata": {
        "id": "fqgFQCj2sXmd"
      },
      "outputs": [],
      "source": [
        "import random\n",
        "import numpy as np\n",
        "import cv2\n",
        "\n",
        "# Read in the image\n",
        "image = cv2.imread(\"C:/Users/Monster/Desktop/elma.jpg\")\n",
        "\n",
        "# Convert the image to grayscale\n",
        "gray_image = cv2.cvtColor(image, cv2.COLOR_BGR2GRAY)\n",
        "\n",
        "# Create a blank image with the same dimensions as the original\n",
        "filtered_image = np.zeros((gray_image.shape[0], gray_image.shape[1]), dtype=np.uint8)\n",
        "\n",
        "# Iterate through each pixel in the image\n",
        "for i in range(gray_image.shape[0]):\n",
        "    for j in range(gray_image.shape[1]):\n",
        "        # Use a random number to determine if the pixel should be turned to black or white\n",
        "        if random.random() < 0.1:\n",
        "            if random.random() < 0.5:\n",
        "                filtered_image[i, j] = 0  # black\n",
        "            else:\n",
        "                filtered_image[i, j] = 255  # white\n",
        "        else:\n",
        "            filtered_image[i, j] = gray_image[i, j]\n",
        "\n",
        "# Save the filtered image\n",
        "cv2.imwrite('saltandpaper_image.jpg', filtered_image)"
      ]
    }
  ]
}