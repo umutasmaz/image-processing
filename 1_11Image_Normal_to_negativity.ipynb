{
  "nbformat": 4,
  "nbformat_minor": 0,
  "metadata": {
    "colab": {
      "provenance": [],
      "authorship_tag": "ABX9TyMugWTWaGlC/1lsCLw4Dl/M"
    },
    "kernelspec": {
      "name": "python3",
      "display_name": "Python 3"
    },
    "language_info": {
      "name": "python"
    }
  },
  "cells": [
    {
      "cell_type": "code",
      "execution_count": null,
      "metadata": {
        "id": "pz-tkvf4_PAd"
      },
      "outputs": [],
      "source": [
        "from PIL import Image\n",
        "Img1 = Image.open (\"C:/Users/Monster/Desktop/apple.jpeg\")\n",
        "h,w = Img1.size\n",
        "img = Img1.load()\n",
        "for i in range(0,h):\n",
        "    for j in range(0,w):\n",
        "        R,G,B = img[i,j]\n",
        "        R = 255 - R\n",
        "        G = 255 - G\n",
        "        B = 255 - B\n",
        "        img[i,j] = (R,G,B)\n",
        "Img1.show()"
      ]
    }
  ]
}