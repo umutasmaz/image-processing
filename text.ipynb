{
  "nbformat": 4,
  "nbformat_minor": 0,
  "metadata": {
    "colab": {
      "provenance": [],
      "authorship_tag": "ABX9TyMLQrZziDFAoROQ0A5QmAT7",
      "include_colab_link": true
    },
    "kernelspec": {
      "name": "python3",
      "display_name": "Python 3"
    },
    "language_info": {
      "name": "python"
    }
  },
  "cells": [
    {
      "cell_type": "markdown",
      "metadata": {
        "id": "view-in-github",
        "colab_type": "text"
      },
      "source": [
        "<a href=\"https://colab.research.google.com/github/umutasmaz/image-processing/blob/main/text.ipynb\" target=\"_parent\"><img src=\"https://colab.research.google.com/assets/colab-badge.svg\" alt=\"Open In Colab\"/></a>"
      ]
    },
    {
      "cell_type": "code",
      "execution_count": null,
      "metadata": {
        "id": "Ye7Iq3QhU8yX"
      },
      "outputs": [],
      "source": [
        "from PIL import Image\n",
        "from PIL import ImageEnhance\n",
        "\n",
        "image = Image.open(\"C:/Users/Casper/Desktop/imgen.jpg\")\n",
        "image.show()\n",
        "curr_sharp = ImageEnhance.Sharpness(image)\n",
        "new_sharp = 8.3\n",
        "img_sharped = curr_sharp.enhance(new_sharp)\n",
        "img_sharped.show()"
      ]
    }
  ]
}