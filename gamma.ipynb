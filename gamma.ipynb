{
  "nbformat": 4,
  "nbformat_minor": 0,
  "metadata": {
    "colab": {
      "provenance": []
    },
    "kernelspec": {
      "name": "python3",
      "display_name": "Python 3"
    },
    "language_info": {
      "name": "python"
    }
  },
  "cells": [
    {
      "cell_type": "code",
      "execution_count": 4,
      "metadata": {
        "colab": {
          "base_uri": "https://localhost:8080/",
          "height": 366
        },
        "id": "71DjgKbi9bdX",
        "outputId": "f320d922-4171-46d7-e155-7c61c99ad700"
      },
      "outputs": [
        {
          "output_type": "error",
          "ename": "NameError",
          "evalue": "ignored",
          "traceback": [
            "\u001b[0;31m---------------------------------------------------------------------------\u001b[0m",
            "\u001b[0;31mNameError\u001b[0m                                 Traceback (most recent call last)",
            "\u001b[0;32m<ipython-input-4-31d76468b138>\u001b[0m in \u001b[0;36m<cell line: 24>\u001b[0;34m()\u001b[0m\n\u001b[1;32m     22\u001b[0m \u001b[0;34m\u001b[0m\u001b[0m\n\u001b[1;32m     23\u001b[0m \u001b[0;31m# Gamma düzeltme işlemini uygulayın\u001b[0m\u001b[0;34m\u001b[0m\u001b[0;34m\u001b[0m\u001b[0m\n\u001b[0;32m---> 24\u001b[0;31m \u001b[0mgamma_corrected_image\u001b[0m \u001b[0;34m=\u001b[0m \u001b[0mgamma_correction\u001b[0m\u001b[0;34m(\u001b[0m\u001b[0moriginal_image\u001b[0m\u001b[0;34m,\u001b[0m \u001b[0mgamma_value\u001b[0m\u001b[0;34m)\u001b[0m\u001b[0;34m\u001b[0m\u001b[0;34m\u001b[0m\u001b[0m\n\u001b[0m\u001b[1;32m     25\u001b[0m \u001b[0;34m\u001b[0m\u001b[0m\n\u001b[1;32m     26\u001b[0m \u001b[0;31m# Orijinal ve düzeltilmiş görüntüleri gösterin\u001b[0m\u001b[0;34m\u001b[0m\u001b[0;34m\u001b[0m\u001b[0m\n",
            "\u001b[0;32m<ipython-input-4-31d76468b138>\u001b[0m in \u001b[0;36mgamma_correction\u001b[0;34m(image, gamma)\u001b[0m\n\u001b[1;32m      7\u001b[0m \u001b[0;34m\u001b[0m\u001b[0m\n\u001b[1;32m      8\u001b[0m     \u001b[0;31m# Applying gamma correction\u001b[0m\u001b[0;34m\u001b[0m\u001b[0;34m\u001b[0m\u001b[0m\n\u001b[0;32m----> 9\u001b[0;31m     \u001b[0mcorrected_image\u001b[0m \u001b[0;34m=\u001b[0m \u001b[0mnp\u001b[0m\u001b[0;34m.\u001b[0m\u001b[0mpower\u001b[0m\u001b[0;34m(\u001b[0m\u001b[0mnormalized_image\u001b[0m\u001b[0;34m,\u001b[0m \u001b[0mgamma\u001b[0m\u001b[0;34m)\u001b[0m\u001b[0;34m\u001b[0m\u001b[0;34m\u001b[0m\u001b[0m\n\u001b[0m\u001b[1;32m     10\u001b[0m \u001b[0;34m\u001b[0m\u001b[0m\n\u001b[1;32m     11\u001b[0m     \u001b[0;31m# Scaling pixel values back to [0, 255]\u001b[0m\u001b[0;34m\u001b[0m\u001b[0;34m\u001b[0m\u001b[0m\n",
            "\u001b[0;31mNameError\u001b[0m: name 'normalized_image' is not defined"
          ]
        }
      ],
      "source": [
        "import numpy as np\n",
        "import cv2\n",
        "\n",
        "def gamma_correction(image, gamma):\n",
        "    # Normalizing pixel values to the range [0, 1]\n",
        "    # normalized_image = image / 255.0\n",
        "\n",
        "    # Applying gamma correction\n",
        "    corrected_image = np.power(normalized_image, gamma)\n",
        "\n",
        "    # Scaling pixel values back to [0, 255]\n",
        "    corrected_image = (corrected_image * 255).astype(np.uint8)\n",
        "\n",
        "    return corrected_image\n",
        "\n",
        "# Görüntüyü yükleyin\n",
        "image_path = \"görüntü.jpg\"  # Görüntünün yolunu değiştirin\n",
        "original_image = cv2.imread(image_path, cv2.IMREAD_COLOR)\n",
        "\n",
        "# Gamma değeri belirleyin (örneğin, 0.5 düşük kontrast, 1.0 orijinal, 1.5 yüksek kontrast)\n",
        "gamma_value = 1.5\n",
        "\n",
        "# Gamma düzeltme işlemini uygulayın\n",
        "gamma_corrected_image = gamma_correction(original_image, gamma_value)\n",
        "\n",
        "# Orijinal ve düzeltilmiş görüntüleri gösterin\n",
        "cv2.imshow(\"Orijinal Görüntü\", original_image)\n",
        "cv2.imshow(\"Gamma Düzeltme Sonrası Görüntü\", gamma_corrected_image)\n",
        "cv2.waitKey(0)\n",
        "cv2.destroyAllWindows()\n"
      ]
    },
    {
      "cell_type": "code",
      "source": [],
      "metadata": {
        "id": "DL_nZMwxSnaD"
      },
      "execution_count": null,
      "outputs": []
    }
  ]
}