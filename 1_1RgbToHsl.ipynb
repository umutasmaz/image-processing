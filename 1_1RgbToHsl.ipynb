{
  "nbformat": 4,
  "nbformat_minor": 0,
  "metadata": {
    "colab": {
      "provenance": [],
      "authorship_tag": "ABX9TyP2Oeox4AfHcKUMBCe6MUXo",
      "include_colab_link": true
    },
    "kernelspec": {
      "name": "python3",
      "display_name": "Python 3"
    },
    "language_info": {
      "name": "python"
    }
  },
  "cells": [
    {
      "cell_type": "markdown",
      "metadata": {
        "id": "view-in-github",
        "colab_type": "text"
      },
      "source": [
        "<a href=\"https://colab.research.google.com/github/umutasmaz/image-processing/blob/main/1_1RgbToHsl.ipynb\" target=\"_parent\"><img src=\"https://colab.research.google.com/assets/colab-badge.svg\" alt=\"Open In Colab\"/></a>"
      ]
    },
    {
      "cell_type": "code",
      "execution_count": null,
      "metadata": {
        "id": "w1QJCzh5t1Yc"
      },
      "outputs": [],
      "source": [
        "from PIL import Image\n",
        "\n",
        "def rgb_to_hsl(rgb):\n",
        "    r, g, b = rgb[0] / 255.0, rgb[1] / 255.0, rgb[2] / 255.0\n",
        "    cmax = max(r, g, b)\n",
        "    cmin = min(r, g, b)\n",
        "    diff = cmax - cmin\n",
        "    h = 0\n",
        "    s = 0\n",
        "    l = (cmax + cmin) / 2\n",
        "    if diff != 0:\n",
        "        if cmax == r:\n",
        "            h = (g - b) / diff\n",
        "        elif cmax == g:\n",
        "            h = (b - r) / diff + 2\n",
        "        elif cmax == b:\n",
        "            h = (r - g) / diff + 4\n",
        "        h *= 60\n",
        "        if h < 0:\n",
        "            h += 360\n",
        "        s = diff / (1 - abs(2 * l - 1))\n",
        "    return h, s, l\n",
        "\n",
        "def convert_image_to_hsl(image):\n",
        "    image = image.convert(\"RGB\")\n",
        "    hsl_image = Image.new(\"RGB\", image.size)\n",
        "    pixels = image.load()\n",
        "    hsl_pixels = hsl_image.load()\n",
        "    for x in range(image.width):\n",
        "        for y in range(image.height):\n",
        "            h, s, l = rgb_to_hsl(pixels[x, y])\n",
        "            hsl_pixels[x, y] = (int(h), int(s * 255), int(l * 255))\n",
        "    return hsl_image\n",
        "\n",
        "# Example usage:\n",
        "image = Image.open(\"C:/Users/Casper/Desktop/elma.jpg\")\n",
        "hsl_image = convert_image_to_hsl(image)\n",
        "hsl_image.save(\"image_hsl.jpg\")"
      ]
    }
  ]
}