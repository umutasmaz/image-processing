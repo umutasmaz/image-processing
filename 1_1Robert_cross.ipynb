{
  "nbformat": 4,
  "nbformat_minor": 0,
  "metadata": {
    "colab": {
      "provenance": [],
      "authorship_tag": "ABX9TyNlZZJO8O12ZPX/Kq6riFsS",
      "include_colab_link": true
    },
    "kernelspec": {
      "name": "python3",
      "display_name": "Python 3"
    },
    "language_info": {
      "name": "python"
    }
  },
  "cells": [
    {
      "cell_type": "markdown",
      "metadata": {
        "id": "view-in-github",
        "colab_type": "text"
      },
      "source": [
        "<a href=\"https://colab.research.google.com/github/umutasmaz/image-processing/blob/main/1_1Robert_cross.ipynb\" target=\"_parent\"><img src=\"https://colab.research.google.com/assets/colab-badge.svg\" alt=\"Open In Colab\"/></a>"
      ]
    },
    {
      "cell_type": "code",
      "execution_count": null,
      "metadata": {
        "id": "eutC9maftOF_"
      },
      "outputs": [],
      "source": [
        "import numpy as np\n",
        "from scipy import ndimage\n",
        "\n",
        "# Load the image\n",
        "image = np.array(Image.open(\"C:/Users/Monster/Desktop/elma.jpg\"))\n",
        "\n",
        "# Create the Roberts cross kernel\n",
        "kernel = np.array([[0, 0, 0],\n",
        "                   [0, 1, 0],\n",
        "                   [0, 0,-1]])\n",
        "\n",
        "# Convolve the image with the kernel\n",
        "filtered_image = ndimage.convolve(image, kernel)\n",
        "\n",
        "# Display the filtered image\n",
        "plt.imshow(filtered_image, cmap='gray')\n",
        "plt.show()"
      ]
    }
  ]
}