{
  "nbformat": 4,
  "nbformat_minor": 0,
  "metadata": {
    "colab": {
      "provenance": [],
      "authorship_tag": "ABX9TyPqsHvsXs83yjEzn4xnrQFD",
      "include_colab_link": true
    },
    "kernelspec": {
      "name": "python3",
      "display_name": "Python 3"
    },
    "language_info": {
      "name": "python"
    }
  },
  "cells": [
    {
      "cell_type": "markdown",
      "metadata": {
        "id": "view-in-github",
        "colab_type": "text"
      },
      "source": [
        "<a href=\"https://colab.research.google.com/github/umutasmaz/image-processing/blob/main/gaussiannoise.ipynb\" target=\"_parent\"><img src=\"https://colab.research.google.com/assets/colab-badge.svg\" alt=\"Open In Colab\"/></a>"
      ]
    },
    {
      "cell_type": "code",
      "execution_count": null,
      "metadata": {
        "id": "BY7Cqmbf-Y4j"
      },
      "outputs": [],
      "source": [
        "import cv2\n",
        "import numpy as np\n",
        "\n",
        "def add_gaussian_noise(image, mean=0, std=25):\n",
        "    noise = np.random.normal(mean, std, image.shape).astype(np.uint8)\n",
        "    noisy_image = cv2.add(image, noise)\n",
        "    return noisy_image\n",
        "\n",
        "original_image = cv2.imread('3.png')\n",
        "\n",
        "noisy_image = add_gaussian_noise(original_image, mean=0, std=25)\n",
        "\n",
        "cv2.imshow(\"Original Image\", original_image)\n",
        "cv2.imshow(\"Noisy Image\", noisy_image)\n",
        "cv2.waitKey(0)\n",
        "cv2.destroyAllWindows()"
      ]
    }
  ]
}